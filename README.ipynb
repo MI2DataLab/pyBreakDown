{
 "cells": [
  {
   "cell_type": "markdown",
   "metadata": {},
   "source": [
    "# pyBreakDown"
   ]
  },
  {
   "cell_type": "markdown",
   "metadata": {},
   "source": [
    "Python implementation of breakDown package (https://github.com/pbiecek/breakDown)."
   ]
  },
  {
   "cell_type": "markdown",
   "metadata": {},
   "source": [
    "Currently under construction, stable alpha version delivery date - June, 2018."
   ]
  },
  {
   "cell_type": "markdown",
   "metadata": {},
   "source": [
    "## Example usage for decision tree regressor"
   ]
  },
  {
   "cell_type": "code",
   "execution_count": 1,
   "metadata": {},
   "outputs": [],
   "source": [
    "from pyBreakDown import explainer as e"
   ]
  },
  {
   "cell_type": "markdown",
   "metadata": {},
   "source": [
    "### Load and prepare data"
   ]
  },
  {
   "cell_type": "code",
   "execution_count": 2,
   "metadata": {},
   "outputs": [],
   "source": [
    "from sklearn import datasets\n",
    "x = datasets.load_boston()\n",
    "data = x.data"
   ]
  },
  {
   "cell_type": "markdown",
   "metadata": {},
   "source": [
    "Train any sklearn model"
   ]
  },
  {
   "cell_type": "code",
   "execution_count": 3,
   "metadata": {},
   "outputs": [],
   "source": [
    "from sklearn import tree\n",
    "clf = tree.DecisionTreeRegressor()\n",
    "clf = clf.fit(data, x.target)"
   ]
  },
  {
   "cell_type": "markdown",
   "metadata": {},
   "source": [
    "### Create explainer object"
   ]
  },
  {
   "cell_type": "code",
   "execution_count": 4,
   "metadata": {},
   "outputs": [],
   "source": [
    "explainer = e.Explainer(clf, x.feature_names)"
   ]
  },
  {
   "cell_type": "markdown",
   "metadata": {},
   "source": [
    "### Explain using \"go up\" method:"
   ]
  },
  {
   "cell_type": "code",
   "execution_count": 5,
   "metadata": {},
   "outputs": [],
   "source": [
    "exp = explainer.explain(observation=data[111,:], data=data, direction=\"up\", baseline=0)"
   ]
  },
  {
   "cell_type": "markdown",
   "metadata": {},
   "source": [
    "### Show text results:"
   ]
  },
  {
   "cell_type": "code",
   "execution_count": 6,
   "metadata": {},
   "outputs": [
    {
     "name": "stdout",
     "output_type": "stream",
     "text": [
      "Feature                  Contribution   Cumulative     \n",
      "Intercept = 1            22.53          22.53          \n",
      "LSTAT = 10.16            1.73           24.26          \n",
      "RM = 6.715               1.71           25.97          \n",
      "B = 395.59               0.26           26.23          \n",
      "CRIM = 0.10084           0.23           26.46          \n",
      "PTRATIO = 17.8           0.05           26.51          \n",
      "ZN = 0.0                 0.0            26.51          \n",
      "INDUS = 10.01            0.0            26.51          \n",
      "CHAS = 0.0               0.0            26.51          \n",
      "RAD = 6.0                0.0            26.51          \n",
      "AGE = 81.6               -0.21          26.3           \n",
      "DIS = 2.6775             -0.34          25.96          \n",
      "TAX = 432.0              -1.22          24.74          \n",
      "NOX = 0.547              -1.94          22.8           \n",
      "Final prediction                        22.8           \n",
      "Baseline = 0\n"
     ]
    }
   ],
   "source": [
    "exp.text()"
   ]
  },
  {
   "cell_type": "markdown",
   "metadata": {},
   "source": [
    "### Text results can be customized:"
   ]
  },
  {
   "cell_type": "code",
   "execution_count": 7,
   "metadata": {},
   "outputs": [
    {
     "name": "stdout",
     "output_type": "stream",
     "text": [
      "Feature                       Contribution        Cumulative          \n",
      "Intercept = 1                 22.5328             22.5328             \n",
      "LSTAT = 10.16                 1.7267              24.2595             \n",
      "RM = 6.715                    1.7107              25.9702             \n",
      "B = 395.59                    0.2621              26.2322             \n",
      "CRIM = 0.10084                0.2316              26.4638             \n",
      "PTRATIO = 17.8                0.0498              26.5136             \n",
      "ZN = 0.0                      0.0                 26.5136             \n",
      "INDUS = 10.01                 0.0                 26.5136             \n",
      "CHAS = 0.0                    0.0                 26.5136             \n",
      "RAD = 6.0                     0.0                 26.5136             \n",
      "AGE = 81.6                    -0.2146             26.299              \n",
      "DIS = 2.6775                  -0.3358             25.9632             \n",
      "TAX = 432.0                   -1.2249             24.7383             \n",
      "NOX = 0.547                   -1.9383             22.8                \n",
      "Final prediction                                  22.8                \n",
      "Baseline = 0\n"
     ]
    }
   ],
   "source": [
    "exp.text(fwidth=30, contwidth=20, cumulwidth=20, digits=4)"
   ]
  },
  {
   "cell_type": "markdown",
   "metadata": {},
   "source": [
    "### Method \"go down\" is also supported:"
   ]
  },
  {
   "cell_type": "code",
   "execution_count": 8,
   "metadata": {},
   "outputs": [
    {
     "name": "stdout",
     "output_type": "stream",
     "text": [
      "Feature                  Contribution   Cumulative     \n",
      "Intercept = 1            22.53          22.53          \n",
      "LSTAT = 9.42             2.66           25.19          \n",
      "RM = 6.727               0.57           25.76          \n",
      "NOX = 0.52               1.86           27.62          \n",
      "DIS = 2.7778             0.02           27.63          \n",
      "CRIM = 0.14866           0.2            27.84          \n",
      "TAX = 384.0              -0.34          27.5           \n",
      "B = 394.76               0.0            27.5           \n",
      "PTRATIO = 20.9           0.0            27.5           \n",
      "RAD = 5.0                0.0            27.5           \n",
      "AGE = 79.9               0.0            27.5           \n",
      "CHAS = 0.0               0.0            27.5           \n",
      "INDUS = 8.56             0.0            27.5           \n",
      "ZN = 0.0                 0.0            27.5           \n",
      "Final prediction                        27.5           \n",
      "Baseline = 0\n"
     ]
    }
   ],
   "source": [
    "explainer.explain(observation=data[100,:],data=data, direction=\"down\", baseline=0).text()"
   ]
  },
  {
   "cell_type": "markdown",
   "metadata": {},
   "source": [
    "### Use intercept as baseline:"
   ]
  },
  {
   "cell_type": "code",
   "execution_count": 9,
   "metadata": {},
   "outputs": [
    {
     "name": "stdout",
     "output_type": "stream",
     "text": [
      "Feature                  Contribution   Cumulative     \n",
      "Intercept = 1            0              0.0            \n",
      "LSTAT = 9.42             2.66           2.66           \n",
      "RM = 6.727               0.57           3.22           \n",
      "NOX = 0.52               1.86           5.08           \n",
      "CRIM = 0.14866           0.3            5.38           \n",
      "B = 394.76               0.16           5.55           \n",
      "ZN = 0.0                 0.0            5.55           \n",
      "INDUS = 8.56             0.0            5.55           \n",
      "CHAS = 0.0               0.0            5.55           \n",
      "RAD = 5.0                0.0            5.55           \n",
      "AGE = 79.9               -0.0           5.55           \n",
      "DIS = 2.7778             -0.08          5.46           \n",
      "PTRATIO = 20.9           -0.37          5.09           \n",
      "TAX = 384.0              -0.13          4.97           \n",
      "Final prediction                        4.97           \n",
      "Baseline = 22.53\n"
     ]
    }
   ],
   "source": [
    "explainer.explain(observation=data[100,:],data=data, direction=\"up\", useIntercept=True).text()"
   ]
  },
  {
   "cell_type": "markdown",
   "metadata": {},
   "source": [
    "## Example for Random Forest classifier"
   ]
  },
  {
   "cell_type": "markdown",
   "metadata": {},
   "source": [
    "### Load and prepare data"
   ]
  },
  {
   "cell_type": "code",
   "execution_count": 10,
   "metadata": {},
   "outputs": [],
   "source": [
    "iris = datasets.load_iris()"
   ]
  },
  {
   "cell_type": "markdown",
   "metadata": {},
   "source": [
    "### Prepare model"
   ]
  },
  {
   "cell_type": "code",
   "execution_count": 11,
   "metadata": {},
   "outputs": [],
   "source": [
    "from sklearn import ensemble\n",
    "clf = ensemble.RandomForestClassifier()\n",
    "clf = clf.fit(iris.data, iris.target)"
   ]
  },
  {
   "cell_type": "markdown",
   "metadata": {},
   "source": [
    "### Make explainer object and explain"
   ]
  },
  {
   "cell_type": "code",
   "execution_count": 12,
   "metadata": {},
   "outputs": [],
   "source": [
    "explainer = e.Explainer(clf, iris.feature_names)\n",
    "exp = explainer.explain(observation=iris.data[99,:],data=iris.data,direction=\"up\")"
   ]
  },
  {
   "cell_type": "code",
   "execution_count": 13,
   "metadata": {},
   "outputs": [
    {
     "name": "stdout",
     "output_type": "stream",
     "text": [
      "Feature                  Contribution   Cumulative     \n",
      "Intercept = 1            1.01           1.01           \n",
      "petal length (cm) = 4.1  0.22           1.23           \n",
      "sepal width (cm) = 2.8   -0.03          1.2            \n",
      "sepal length (cm) = 5.7  -0.2           1.0            \n",
      "petal width (cm) = 1.3   0.0            1.0            \n",
      "Final prediction                        1.0            \n",
      "Baseline = 0\n"
     ]
    }
   ],
   "source": [
    "exp.text()"
   ]
  }
 ],
 "metadata": {
  "kernelspec": {
   "display_name": "Python 3",
   "language": "python",
   "name": "python3"
  },
  "language_info": {
   "codemirror_mode": {
    "name": "ipython",
    "version": 3
   },
   "file_extension": ".py",
   "mimetype": "text/x-python",
   "name": "python",
   "nbconvert_exporter": "python",
   "pygments_lexer": "ipython3",
   "version": "3.5.2"
  }
 },
 "nbformat": 4,
 "nbformat_minor": 2
}
